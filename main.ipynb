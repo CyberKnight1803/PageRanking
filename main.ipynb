{
 "cells": [
  {
   "cell_type": "code",
   "execution_count": 1,
   "metadata": {},
   "outputs": [],
   "source": [
    "import numpy as np "
   ]
  },
  {
   "cell_type": "markdown",
   "metadata": {},
   "source": [
    "## Assignment 2A"
   ]
  },
  {
   "cell_type": "code",
   "execution_count": 2,
   "metadata": {},
   "outputs": [],
   "source": [
    "from A.graph import constructAdjM, compute_principle_left_eigen_vector, constructProbTransMatrix, get_ranks, power_iteration"
   ]
  },
  {
   "cell_type": "code",
   "execution_count": 3,
   "metadata": {},
   "outputs": [
    {
     "name": "stdout",
     "output_type": "stream",
     "text": [
      "[0, 1, 0, 0]\n",
      "[1, 0, 1, 0]\n",
      "[0, 1, 0, 1]\n",
      "[0, 0, 1, 0]\n"
     ]
    }
   ],
   "source": [
    "V, E, adjM = constructAdjM(\"input.txt\")\n",
    "\n",
    "for r in adjM:\n",
    "    print(r)"
   ]
  },
  {
   "cell_type": "code",
   "execution_count": 4,
   "metadata": {},
   "outputs": [
    {
     "name": "stdout",
     "output_type": "stream",
     "text": [
      "[0.225 0.325 0.225 0.225]\n",
      "[0.275 0.225 0.275 0.225]\n",
      "[0.225 0.275 0.225 0.275]\n",
      "[0.225 0.225 0.325 0.225]\n"
     ]
    }
   ],
   "source": [
    "P = constructProbTransMatrix(V, adjM)\n",
    "\n",
    "for r in P:\n",
    "    print(r)"
   ]
  },
  {
   "cell_type": "code",
   "execution_count": 5,
   "metadata": {},
   "outputs": [
    {
     "data": {
      "text/plain": [
       "array([0.25, 0.25, 0.25, 0.25])"
      ]
     },
     "execution_count": 5,
     "metadata": {},
     "output_type": "execute_result"
    }
   ],
   "source": [
    "PI = compute_principle_left_eigen_vector(P)\n",
    "PI"
   ]
  },
  {
   "cell_type": "code",
   "execution_count": 6,
   "metadata": {},
   "outputs": [
    {
     "name": "stdout",
     "output_type": "stream",
     "text": [
      "Rank 1:= Page 4\n",
      "Rank 2:= Page 3\n",
      "Rank 3:= Page 2\n",
      "Rank 4:= Page 1\n"
     ]
    }
   ],
   "source": [
    "get_ranks(PI)"
   ]
  },
  {
   "cell_type": "markdown",
   "metadata": {},
   "source": [
    "## Power Iteration method"
   ]
  },
  {
   "cell_type": "code",
   "execution_count": 7,
   "metadata": {},
   "outputs": [],
   "source": [
    "x, t = power_iteration(V, P, threshold=1e-9)"
   ]
  },
  {
   "cell_type": "code",
   "execution_count": 8,
   "metadata": {},
   "outputs": [
    {
     "name": "stdout",
     "output_type": "stream",
     "text": [
      "Converges after timesteps: 16\n",
      "PI: [[0.23809524 0.26190476 0.26190476 0.23809524]]\n"
     ]
    }
   ],
   "source": [
    "print(f\"Converges after timesteps: {t}\")\n",
    "print(f\"PI: {x}\")\n"
   ]
  },
  {
   "cell_type": "markdown",
   "metadata": {},
   "source": [
    "## Assignment 2B"
   ]
  },
  {
   "cell_type": "code",
   "execution_count": null,
   "metadata": {},
   "outputs": [],
   "source": []
  }
 ],
 "metadata": {
  "interpreter": {
   "hash": "efa69d2e0ae01448e4c9e8b2b5d47bff135ea6b917f938db113d1deb1732af01"
  },
  "kernelspec": {
   "display_name": "Python 3.8.11 ('learn_pytorch')",
   "language": "python",
   "name": "python3"
  },
  "language_info": {
   "codemirror_mode": {
    "name": "ipython",
    "version": 3
   },
   "file_extension": ".py",
   "mimetype": "text/x-python",
   "name": "python",
   "nbconvert_exporter": "python",
   "pygments_lexer": "ipython3",
   "version": "3.8.11"
  },
  "orig_nbformat": 4
 },
 "nbformat": 4,
 "nbformat_minor": 2
}
